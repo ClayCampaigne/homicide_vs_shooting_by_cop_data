{
 "cells": [
  {
   "cell_type": "code",
   "execution_count": null,
   "id": "prepared-feedback",
   "metadata": {},
   "outputs": [],
   "source": [
    "import numpy as np\n",
    "import pandas as pd\n",
    "import matplotlib.pyplot as plt"
   ]
  },
  {
   "cell_type": "code",
   "execution_count": null,
   "id": "adolescent-moscow",
   "metadata": {},
   "outputs": [],
   "source": [
    "# Compare killings by police vs intentional homicide rate, across countries"
   ]
  },
  {
   "cell_type": "code",
   "execution_count": null,
   "id": "painful-wealth",
   "metadata": {},
   "outputs": [],
   "source": [
    "homicide_path = 'homicide_data_by_country.csv'\n",
    "shooting_by_police_path = 'police_killings_by_country.csv'\n",
    "# https://worldpopulationreview.com/country-rankings/police-killings-by-country\n",
    "# https://www.indexmundi.com/facts/indicators/VC.IHR.PSRC.P5/rankings"
   ]
  },
  {
   "cell_type": "code",
   "execution_count": null,
   "id": "speaking-opposition",
   "metadata": {},
   "outputs": [],
   "source": [
    "import numpy as np\n",
    "import pandas as pd\n",
    "import matplotlib.pyplot as plt\n",
    "h = pd.read_csv(homicide_path)\n",
    "s = pd.read_csv(shooting_by_police_path)\n",
    "s.columns = [elem.replace('country', 'Country') for elem in s.columns]\n",
    "data_by_country = pd.merge(h,s, on='Country', how='inner')\n",
    "fig, ax = plt.subplots(figsize=(20,12))\n",
    "ax.scatter(x=np.log(data_by_country['homicide rate']),\n",
    "           y=np.log(data_by_country['ratePer10M']),\n",
    "           label = data_by_country['Country'])\n",
    "\n",
    "for i, txt in enumerate(data_by_country['Country']):\n",
    "    plt.annotate(txt, (np.log(data_by_country.loc[i,'homicide rate']), np.log(data_by_country.loc[i, 'ratePer10M'])))\n",
    "\n",
    "fig.savefig('pofat_vs_hom_by_country.png')"
   ]
  },
  {
   "cell_type": "code",
   "execution_count": null,
   "id": "heard-teens",
   "metadata": {},
   "outputs": [],
   "source": [
    "data_by_country[['homicide rate', 'ratePer10M']].corr()"
   ]
  },
  {
   "cell_type": "code",
   "execution_count": null,
   "id": "systematic-difficulty",
   "metadata": {},
   "outputs": [],
   "source": [
    "np.log(data_by_country[['homicide rate', 'ratePer10M']]).corr()"
   ]
  },
  {
   "cell_type": "code",
   "execution_count": null,
   "id": "talented-shade",
   "metadata": {},
   "outputs": [],
   "source": []
  },
  {
   "cell_type": "markdown",
   "id": "intended-static",
   "metadata": {},
   "source": [
    "# Same comparison across states"
   ]
  },
  {
   "cell_type": "code",
   "execution_count": null,
   "id": "blank-warrior",
   "metadata": {},
   "outputs": [],
   "source": [
    "\n",
    "us_state_abbrev = {\n",
    "    'Alabama': 'AL',\n",
    "    'Alaska': 'AK',\n",
    "    'American Samoa': 'AS',\n",
    "    'Arizona': 'AZ',\n",
    "    'Arkansas': 'AR',\n",
    "    'California': 'CA',\n",
    "    'Colorado': 'CO',\n",
    "    'Connecticut': 'CT',\n",
    "    'Delaware': 'DE',\n",
    "    'District of Columbia': 'DC',\n",
    "    'Florida': 'FL',\n",
    "    'Georgia': 'GA',\n",
    "    'Guam': 'GU',\n",
    "    'Hawaii': 'HI',\n",
    "    'Idaho': 'ID',\n",
    "    'Illinois': 'IL',\n",
    "    'Indiana': 'IN',\n",
    "    'Iowa': 'IA',\n",
    "    'Kansas': 'KS',\n",
    "    'Kentucky': 'KY',\n",
    "    'Louisiana': 'LA',\n",
    "    'Maine': 'ME',\n",
    "    'Maryland': 'MD',\n",
    "    'Massachusetts': 'MA',\n",
    "    'Michigan': 'MI',\n",
    "    'Minnesota': 'MN',\n",
    "    'Mississippi': 'MS',\n",
    "    'Missouri': 'MO',\n",
    "    'Montana': 'MT',\n",
    "    'Nebraska': 'NE',\n",
    "    'Nevada': 'NV',\n",
    "    'New Hampshire': 'NH',\n",
    "    'New Jersey': 'NJ',\n",
    "    'New Mexico': 'NM',\n",
    "    'New York': 'NY',\n",
    "    'North Carolina': 'NC',\n",
    "    'North Dakota': 'ND',\n",
    "    'Northern Mariana Islands':'MP',\n",
    "    'Ohio': 'OH',\n",
    "    'Oklahoma': 'OK',\n",
    "    'Oregon': 'OR',\n",
    "    'Pennsylvania': 'PA',\n",
    "    'Puerto Rico': 'PR',\n",
    "    'Rhode Island': 'RI',\n",
    "    'South Carolina': 'SC',\n",
    "    'South Dakota': 'SD',\n",
    "    'Tennessee': 'TN',\n",
    "    'Texas': 'TX',\n",
    "    'Utah': 'UT',\n",
    "    'Vermont': 'VT',\n",
    "    'Virgin Islands': 'VI',\n",
    "    'Virginia': 'VA',\n",
    "    'Washington': 'WA',\n",
    "    'West Virginia': 'WV',\n",
    "    'Wisconsin': 'WI',\n",
    "    'Wyoming': 'WY',\n",
    "    'United States': 'ALL'\n",
    "}"
   ]
  },
  {
   "cell_type": "code",
   "execution_count": null,
   "id": "sudden-classics",
   "metadata": {},
   "outputs": [],
   "source": [
    "police_fatality_wapo_p = 'fatal-police-shootings-data-wapo.csv'\n",
    "homicide_by_state_p = 'homicide_by_state_wikipedia.csv'\n",
    "# https://en.wikipedia.org/wiki/List_of_U.S._states_and_territories_by_intentional_homicide_rate\n",
    "# https://data.world/awram/us-police-involved-fatalities"
   ]
  },
  {
   "cell_type": "code",
   "execution_count": null,
   "id": "racial-prototype",
   "metadata": {},
   "outputs": [],
   "source": [
    "# state abbreviation dictionary: https://gist.github.com/rogerallen/1583593\n",
    "\n",
    "police_fatality = pd.read_csv(police_fatality_wapo_p, parse_dates = ['date'])\n",
    "police_fatality['year'] = police_fatality['date'].dt.year\n",
    "gb = police_fatality.groupby(['year', 'state']).count()\n",
    "gb = gb.iloc[:,0]\n",
    "\n",
    "po_fat = gb.unstack(['year'])\n",
    "po_fat.columns = [str(elem) for elem in po_fat.columns]\n",
    "po_fat = po_fat.reset_index()\n",
    "po_fat['comp_years_pofat'] = po_fat[['2015', '2016', '2017', '2018', '2019']].sum(axis=1)\n",
    "\n",
    "h_by_s = pd.read_csv(homicide_by_state_p)\n",
    "h_by_s['state'] = h_by_s['state'].str.strip()\n",
    "h_by_s['Murder Count'] = h_by_s['Murder Count'].str.replace(',','').astype(int)\n",
    "h_by_s['relpop'] = h_by_s['Murder Count']/h_by_s['2019']\n",
    "h_by_s['state'] = h_by_s['state'].apply(lambda entry: us_state_abbrev[entry])\n",
    "h_by_s['comp_years_homicide'] = h_by_s[['2019', '2018', '2017', '2016', '2015']].sum(axis=1)\n",
    "\n",
    "data_by_state = pd.merge(h_by_s[['state', 'comp_years_homicide', 'relpop']],\n",
    "                po_fat[['state', 'comp_years_pofat']],\n",
    "                on = 'state',\n",
    "                how = 'inner')\n",
    "data_by_state['pofat_rate'] = data_by_state['comp_years_pofat']/data_by_state['relpop']\n",
    "\n",
    "fig, ax = plt.subplots(figsize=(20,12))\n",
    "ax.scatter(x=np.log(data_by_state['comp_years_homicide']),\n",
    "           y=np.log(data_by_state['pofat_rate']))\n",
    "\n",
    "for i, txt in enumerate(data_by_state['state']):\n",
    "    plt.annotate(txt, (np.log(data_by_state.loc[i,'comp_years_homicide']), np.log(data_by_state.loc[i, 'pofat_rate'])))\n",
    "\n",
    "fig.savefig('pofat_vs_hom_by_US_state.png')"
   ]
  },
  {
   "cell_type": "code",
   "execution_count": null,
   "id": "previous-gateway",
   "metadata": {},
   "outputs": [],
   "source": [
    "data_by_state[['comp_years_homicide', 'pofat_rate']].corr()"
   ]
  },
  {
   "cell_type": "code",
   "execution_count": null,
   "id": "accessible-buffalo",
   "metadata": {},
   "outputs": [],
   "source": [
    "np.log(data_by_state[['pofat_rate','comp_years_homicide']]).corr()"
   ]
  },
  {
   "cell_type": "code",
   "execution_count": null,
   "id": "surface-consortium",
   "metadata": {},
   "outputs": [],
   "source": []
  }
 ],
 "metadata": {
  "@webio": {
   "lastCommId": null,
   "lastKernelId": null
  },
  "kernelspec": {
   "display_name": "Python 3",
   "language": "python",
   "name": "python3"
  },
  "language_info": {
   "codemirror_mode": {
    "name": "ipython",
    "version": 3
   },
   "file_extension": ".py",
   "mimetype": "text/x-python",
   "name": "python",
   "nbconvert_exporter": "python",
   "pygments_lexer": "ipython3",
   "version": "3.7.3"
  }
 },
 "nbformat": 4,
 "nbformat_minor": 5
}
